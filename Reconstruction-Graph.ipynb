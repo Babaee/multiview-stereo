{
 "cells": [
  {
   "cell_type": "code",
   "execution_count": 1,
   "metadata": {},
   "outputs": [],
   "source": [
    "import numpy as np\n",
    "import maxflow"
   ]
  },
  {
   "cell_type": "markdown",
   "metadata": {},
   "source": [
    "### Graph building\n",
    "\n",
    "\n",
    "Given: A 3D voxel grid\n",
    "- For each node:\n",
    "  - Iterate over 6 neighbouring nodes\n",
    "    - Get midpoint between two nodes\n",
    "    - Calculate M closest cameras to midpoint\n",
    "    - Calculate photoconsistency (roh)with M closest cameras\n",
    "    - Set node weight to ((h^2)*4*pi/3 ) * roh\n",
    "    - where h is the length of a voxel\n",
    "  - connect each node to the source, with a weight of lambda*h^3\n",
    "  \n",
    "- For the outer nodes:\n",
    "  - Connect each to the sink, with an infinite weight"
   ]
  },
  {
   "cell_type": "code",
   "execution_count": 5,
   "metadata": {},
   "outputs": [],
   "source": [
    "\n",
    "camera_positions = [] # List for each camera position\n",
    "                    # T (or -T ?) for each transformation mtrix\n",
    "images = [] # All images\n",
    "\n",
    "## TODO check if these are the correct coordinates for x/y/z directions\n",
    "x_structure = np.zeros((3,3,3))\n",
    "x_structure[1][1][2] = 1\n",
    "\n",
    "y_structure = np.zeros((3,3,3))\n",
    "y_structure[1][2][1] = 1\n",
    "\n",
    "z_structure = np.zeros((3,3,3))\n",
    "z_structure[2][1][1] = 1\n",
    "\n",
    "def get_pixel_from_3D(camera, coordinate):\n",
    "    #TODO millin probably has this\n",
    "    pass\n",
    "\n",
    "def get_M_closest_cameras(coordinate, M):\n",
    "    d = [None for _ in range(len(camera_positions))]\n",
    "    for i in range(len(camera_positions)):\n",
    "        d[i] = np.norm(coordinate-camera_positions[i])\n",
    "    sorted_d = sorted(range(len(d)), key=lambda k: d[k])\n",
    "    return sorted_d[:M]\n",
    "\n",
    "def create_edge_weights(visual_hull):\n",
    "    #NOTE: this function isn't used yet but could be an optimization later\n",
    "    x_plus = np.zeros(visual_hull.shape)\n",
    "    y_plus = np.zeros(visual_hull.shape)\n",
    "    z_plus = np.zeros(visual_hull.shape)\n",
    "    \n",
    "    hull_indices = np.where(visual_hull > 0)\n",
    "    \n",
    "    x_plus[hull_indices] = list_of_weights\n",
    "    \n",
    "    \n",
    "def get_variance(pixels):\n",
    "    ave_R = sum(pixels[:,0])/len(pixels[:,0])\n",
    "    ave_G = sum(pixels[:,1])/len(pixels[:,1])\n",
    "    ave_B = sum(pixels[:,2])/len(pixels[:,2])\n",
    "    ave_pixel = np.array([ave_R, ave_G, ave_B])\n",
    "    variance = 0\n",
    "    for i in range(len(pixels)):\n",
    "        variance += np.norm(pixels[i]-ave_pixel)**2\n",
    "    return variance\n",
    "\n",
    "def is_edge(visual_hull, index):\n",
    "    x,y,z = visual_hull.shape\n",
    "    if index[0] == 0 || index[1] == 0 || index[2] == 0:\n",
    "        return True\n",
    "    if index[0]+1 == x || index[1]+1 == y || index[2]+1 == z:\n",
    "        return True\n",
    "    neighbours = []\n",
    "    index = np.array(index)\n",
    "    neighbours.append(index + np.array([1,0,0]))\n",
    "    neighbours.append(index + np.array([-1,0,0]))\n",
    "    neighbours.append(index + np.array([0,1,0]))\n",
    "    neighbours.append(index + np.array([0,-1,0]))\n",
    "    neighbours.append(index + np.array([0,0,1]))\n",
    "    neighbours.append(index + np.array([0,0,-1]))\n",
    "    \n",
    "    for n in neighbours:\n",
    "        if visual_hull[n[0],n[1],n[2]] == 0:\n",
    "            return True\n",
    "        \n",
    "    return False\n",
    "    \n",
    "\n",
    "def create_graph(visual_hull, M=3, el=10, h=0.1, origin=[0,0,0]):\n",
    "    # M: closest cameras\n",
    "    # el: lambda value\n",
    "    # h: size of voxel\n",
    "    # origin: What the index [0,0,0] in the voxel grid corresponds to in 3D coordinate system\n",
    "    \n",
    "    \n",
    "    graph = maxflow.GraphFloat()\n",
    "    node_ids = graph.add_grid_nodes(visual_hull.shape)\n",
    "    hull_indices = np.where(visual_hull > 0)\n",
    "    valid_node_ids = node_ids[hull_indices]\n",
    "\n",
    "    hull_coords = np.array([hull_indices[0]*h + origin[0], hull_indices[1]*h + origin[1], hull_indices[2]*h + origin[2]])\n",
    "    \n",
    "#     edge_coordinates = []\n",
    "#     edge_coordinates.append(np.array([hull_coords[0]+0.5*h,hull_coords[1],hull_coords[2]]))\n",
    "#    # edge_coordinates.append(np.array([hull_coords[0]-0.5*h,hull_coords[1],hull_coords[2]]))\n",
    "#     edge_coordinates.append(np.array([hull_coords[0],hull_coords[1]+0.5*h,hull_coords[2]]))\n",
    "#    # edge_coordinates.append(np.array([hull_coords[0],hull_coords[1]-0.5*h,hull_coords[2]]))\n",
    "#     edge_coordinates.append(np.array([hull_coords[0],hull_coords[1],hull_coords[2]+0.5*h]))\n",
    "   # edge_coordinates.append(np.array([hull_coords[0],hull_coords[1],hull_coords[2]-0.5*h]))\n",
    "    \n",
    "    \n",
    "    # Indices of the 6 neighbouring nodes for each visual hull node\n",
    "#     edge_indices = []\n",
    "#     edge_indices.append(np.array([hull_indices[0]+1,hull_indices[1],hull_indices[2]]))\n",
    "#     edge_indices.append(np.array([hull_indices[0]-1,hull_indices[1],hull_indices[2]]))\n",
    "#     edge_indices.append(np.array([hull_indices[0],hull_indices[1]+1,hull_indices[2]]))\n",
    "#     edge_indices.append(np.array([hull_indices[0],hull_indices[1]-1,hull_indices[2]]))\n",
    "#     edge_indices.append(np.array([hull_indices[0],hull_indices[1],hull_indices[2]+1]))\n",
    "#     edge_indices.append(np.array([hull_indices[0],hull_indices[1],hull_indices[2]-1]))\n",
    "    \n",
    "    for i in range(len(hull_indices[0])):\n",
    "        #current_index = np.array(zip(hull_indices)[i])\n",
    "        current_index = np.array([hull_indices[0][i],hull_indices[1][i],hull_indices[2][i]])\n",
    "        #coordinate = np.array(zip(hull_coords)[i])\n",
    "        coordinate = np.array([hull_coords[0][i],hull_coords[1][i],hull_coords[2][i]])\n",
    "        closest_cameras = get_M_closest_cameras(coordinate,M)\n",
    "        node_id = valid_node_ids[i]\n",
    "        \n",
    "        x_coord = coordinate + np.array([0.5*h, 0, 0])\n",
    "        y_coord = coordinate + np.array([0, 0.5*h, 0])\n",
    "        z_coord = coordinate + np.array([0, 0, 0.5*h])\n",
    "        \n",
    "        pixels_x = []\n",
    "        pixels_y = []\n",
    "        pixels_z = []\n",
    "        for camera in closest_cameras:\n",
    "            pixels_x.append(get_pixel_from_3D(camera, x_coord))\n",
    "            pixels_y.append(get_pixel_from_3D(camera, y_coord))\n",
    "            pixels_z.append(get_pixel_from_3D(camera, z_coord))\n",
    "        \n",
    "        x_weight = get_variance(pixels_x)\n",
    "        y_weight = get_variance(pixels_y)\n",
    "        z_weight = get_variance(pixels_z)\n",
    "\n",
    "        # TODO maybe check if the edge is being connected to a node not in the visual hull; i.e. don't add that edge\n",
    "        \n",
    "        # N-Links\n",
    "        graph.add_grid_edges(np.array([node_id]), weights=np.array([x_weight]), structure=x_structure, symmetric=True)\n",
    "        graph.add_grid_edges(np.array([node_id]), weights=np.array([y_weight]), structure=y_structure, symmetric=True)\n",
    "        graph.add_grid_edges(np.array([node_id]), weights=np.array([z_weight]), structure=z_structure, symmetric=True)\n",
    "        \n",
    "        \n",
    "        # Source Link\n",
    "        if is_edge(visual_hull, current_index):\n",
    "            graph.add_tedge(node_id, el*(h**3), 999999999)\n",
    "        else:\n",
    "            graph.add_tedge(node_id, el*(h**3), 0)\n",
    "        \n",
    "    return graph, node_ids\n",
    "    \n",
    "    \n",
    "def run_maxflow(graph, node_ids):\n",
    "    maxflow_value = graph.maxflow()\n",
    "    segments = graph.get_grid_segments(node_ids)\n",
    "    return maxflow_value, segments\n",
    "    \n",
    "    \n",
    "    "
   ]
  },
  {
   "cell_type": "code",
   "execution_count": 2,
   "metadata": {},
   "outputs": [],
   "source": [
    "a = np.array([[[1,2,3],[4,5,6],[7,8,9]],[[1,2,3],[4,5,6],[7,8,9]],[[1,2,3],[4,5,6],[7,8,9]]])"
   ]
  },
  {
   "cell_type": "code",
   "execution_count": 11,
   "metadata": {},
   "outputs": [
    {
     "data": {
      "text/plain": [
       "array([5])"
      ]
     },
     "execution_count": 11,
     "metadata": {},
     "output_type": "execute_result"
    }
   ],
   "source": [
    "np.array([5])"
   ]
  },
  {
   "cell_type": "code",
   "execution_count": 25,
   "metadata": {},
   "outputs": [
    {
     "data": {
      "text/plain": [
       "[(array([0, 0, 0, 0, 0, 1, 1, 1, 1, 1, 2, 2, 2, 2, 2]),),\n",
       " (array([1, 1, 2, 2, 2, 1, 1, 2, 2, 2, 1, 1, 2, 2, 2]),),\n",
       " (array([1, 2, 0, 1, 2, 1, 2, 0, 1, 2, 1, 2, 0, 1, 2]),)]"
      ]
     },
     "execution_count": 25,
     "metadata": {},
     "output_type": "execute_result"
    }
   ],
   "source": [
    "zip([np.where(a>4)[0],np.where(a>4)[1],np.where(a>4)[2]] )"
   ]
  },
  {
   "cell_type": "code",
   "execution_count": 19,
   "metadata": {},
   "outputs": [
    {
     "data": {
      "text/plain": [
       "array([[[0., 0., 0.],\n",
       "        [0., 0., 0.],\n",
       "        [0., 0., 0.]],\n",
       "\n",
       "       [[0., 0., 0.],\n",
       "        [0., 0., 0.],\n",
       "        [0., 0., 0.]],\n",
       "\n",
       "       [[0., 0., 0.],\n",
       "        [0., 0., 0.],\n",
       "        [0., 0., 0.]]])"
      ]
     },
     "execution_count": 19,
     "metadata": {},
     "output_type": "execute_result"
    }
   ],
   "source": [
    "np.zeros(a.shape)"
   ]
  },
  {
   "cell_type": "code",
   "execution_count": 9,
   "metadata": {},
   "outputs": [
    {
     "data": {
      "text/plain": [
       "(3, 3, 3)"
      ]
     },
     "execution_count": 9,
     "metadata": {},
     "output_type": "execute_result"
    }
   ],
   "source": [
    "a.shape\n"
   ]
  },
  {
   "cell_type": "code",
   "execution_count": 12,
   "metadata": {},
   "outputs": [
    {
     "data": {
      "text/plain": [
       "array([[[1, 2, 3],\n",
       "        [4, 5, 6],\n",
       "        [7, 8, 9]],\n",
       "\n",
       "       [[1, 2, 3],\n",
       "        [4, 5, 6],\n",
       "        [7, 8, 9]],\n",
       "\n",
       "       [[1, 2, 3],\n",
       "        [4, 5, 6],\n",
       "        [7, 8, 9]]])"
      ]
     },
     "execution_count": 12,
     "metadata": {},
     "output_type": "execute_result"
    }
   ],
   "source": [
    "a"
   ]
  },
  {
   "cell_type": "code",
   "execution_count": 13,
   "metadata": {},
   "outputs": [
    {
     "data": {
      "text/plain": [
       "array([[[1, 2, 3],\n",
       "        [4, 5, 6],\n",
       "        [7, 8, 9]],\n",
       "\n",
       "       [[1, 2, 3],\n",
       "        [4, 5, 6],\n",
       "        [7, 8, 9]],\n",
       "\n",
       "       [[1, 2, 3],\n",
       "        [4, 5, 6],\n",
       "        [7, 8, 9]]])"
      ]
     },
     "execution_count": 13,
     "metadata": {},
     "output_type": "execute_result"
    }
   ],
   "source": [
    "a[np.array([1,1,1])]"
   ]
  },
  {
   "cell_type": "code",
   "execution_count": 14,
   "metadata": {},
   "outputs": [
    {
     "data": {
      "text/plain": [
       "array([1, 1, 1])"
      ]
     },
     "execution_count": 14,
     "metadata": {},
     "output_type": "execute_result"
    }
   ],
   "source": [
    "np.array([1,1,1])"
   ]
  },
  {
   "cell_type": "code",
   "execution_count": 20,
   "metadata": {},
   "outputs": [
    {
     "ename": "SyntaxError",
     "evalue": "invalid syntax (<ipython-input-20-48aac974df54>, line 1)",
     "output_type": "error",
     "traceback": [
      "\u001b[0;36m  File \u001b[0;32m\"<ipython-input-20-48aac974df54>\"\u001b[0;36m, line \u001b[0;32m1\u001b[0m\n\u001b[0;31m    a[*[1,1,1]]\u001b[0m\n\u001b[0m      ^\u001b[0m\n\u001b[0;31mSyntaxError\u001b[0m\u001b[0;31m:\u001b[0m invalid syntax\n"
     ]
    }
   ],
   "source": [
    "a[[1,1,1]]"
   ]
  },
  {
   "cell_type": "code",
   "execution_count": null,
   "metadata": {},
   "outputs": [],
   "source": []
  }
 ],
 "metadata": {
  "kernelspec": {
   "display_name": "Python 2",
   "language": "python",
   "name": "python2"
  },
  "language_info": {
   "codemirror_mode": {
    "name": "ipython",
    "version": 2
   },
   "file_extension": ".py",
   "mimetype": "text/x-python",
   "name": "python",
   "nbconvert_exporter": "python",
   "pygments_lexer": "ipython2",
   "version": "2.7.3"
  }
 },
 "nbformat": 4,
 "nbformat_minor": 2
}
